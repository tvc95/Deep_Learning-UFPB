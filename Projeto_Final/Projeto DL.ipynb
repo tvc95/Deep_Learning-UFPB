{
 "cells": [
  {
   "cell_type": "markdown",
   "metadata": {},
   "source": [
    "# Projeto - Deep Learning\n",
    "\n",
    "## Classificação de Espectogramas\n",
    "\n",
    "Equipe: Francisco Mateus, Matheus Praxedes e Thiago Viana"
   ]
  },
  {
   "cell_type": "markdown",
   "metadata": {},
   "source": [
    "### Importações utilizadas"
   ]
  },
  {
   "cell_type": "code",
   "execution_count": 2,
   "metadata": {},
   "outputs": [
    {
     "ename": "ModuleNotFoundError",
     "evalue": "No module named 'PIL'",
     "output_type": "error",
     "traceback": [
      "\u001b[1;31m---------------------------------------------------------------------------\u001b[0m",
      "\u001b[1;31mModuleNotFoundError\u001b[0m                       Traceback (most recent call last)",
      "\u001b[1;32m<ipython-input-2-675d64518e8c>\u001b[0m in \u001b[0;36m<module>\u001b[1;34m()\u001b[0m\n\u001b[0;32m      4\u001b[0m \u001b[1;32mimport\u001b[0m \u001b[0mnumpy\u001b[0m \u001b[1;32mas\u001b[0m \u001b[0mnp\u001b[0m\u001b[1;33m\u001b[0m\u001b[0m\n\u001b[0;32m      5\u001b[0m \u001b[1;32mimport\u001b[0m \u001b[0mmatplotlib\u001b[0m\u001b[1;33m.\u001b[0m\u001b[0mpyplot\u001b[0m \u001b[1;32mas\u001b[0m \u001b[0mplt\u001b[0m\u001b[1;33m\u001b[0m\u001b[0m\n\u001b[1;32m----> 6\u001b[1;33m \u001b[1;32mfrom\u001b[0m \u001b[0mPIL\u001b[0m \u001b[1;32mimport\u001b[0m \u001b[0mImage\u001b[0m\u001b[1;33m\u001b[0m\u001b[0m\n\u001b[0m\u001b[0;32m      7\u001b[0m \u001b[1;32mfrom\u001b[0m \u001b[0mkeras\u001b[0m\u001b[1;33m.\u001b[0m\u001b[0mmodels\u001b[0m \u001b[1;32mimport\u001b[0m \u001b[0mSequential\u001b[0m\u001b[1;33m\u001b[0m\u001b[0m\n\u001b[0;32m      8\u001b[0m \u001b[1;32mfrom\u001b[0m \u001b[0mkeras\u001b[0m\u001b[1;33m.\u001b[0m\u001b[0mlayers\u001b[0m \u001b[1;32mimport\u001b[0m \u001b[0mDense\u001b[0m\u001b[1;33m,\u001b[0m \u001b[0mActivation\u001b[0m\u001b[1;33m\u001b[0m\u001b[0m\n",
      "\u001b[1;31mModuleNotFoundError\u001b[0m: No module named 'PIL'"
     ]
    }
   ],
   "source": [
    "import keras\n",
    "import tensorflow as tf\n",
    "import pandas as pd\n",
    "import numpy as np\n",
    "import matplotlib.pyplot as plt\n",
    "from PIL import Image\n",
    "from keras.models import Sequential\n",
    "from keras.layers import Dense, Activation\n",
    "from keras.layers import Dropout\n",
    "from sklearn.model_selection import train_test_split\n",
    "from sklearn import preprocessing\n",
    "from sklearn.metrics import accuracy_score\n",
    "from sklearn.metrics import confusion_matrix"
   ]
  },
  {
   "cell_type": "markdown",
   "metadata": {},
   "source": [
    "### Leitura, visualização e pré-processamento do dataset"
   ]
  },
  {
   "cell_type": "code",
   "execution_count": null,
   "metadata": {},
   "outputs": [],
   "source": []
  },
  {
   "cell_type": "markdown",
   "metadata": {},
   "source": [
    "### Implementação da Rede Neural\n",
    "\n",
    "O que precisa ser feito:\n",
    "    - Dividir as instâncias (treinamento (80%), validação e teste (20%))\n",
    "    - Desenvolvimento da arquitetura da rede\n",
    "        - Rede Convolucional\n",
    "            - 5 camadas convolucionais (1a com stride 2x1, o restante com stride 1x1) alternadas com camadas de pooling (stride 2x2) (função ReLU) [ok]\n",
    "                - camada de entrada tem dropout 0.2 [ok]\n",
    "            - 1 camada densa (1024 unidades, ReLU, dropout 0.4) + camada de saída (1000 unidades, softmax, dropout 0.4) [ok]\n",
    "        - Função custo: categorical_crossentropy [ok]\n",
    "        - Batch size: 16 [ok]\n",
    "        - Otimizador: Adam ou SGD com momento de Nesterov (momento = 0.9, LR = 0.1)\n",
    "    - "
   ]
  },
  {
   "cell_type": "code",
   "execution_count": null,
   "metadata": {},
   "outputs": [],
   "source": [
    "### Dividir as instâncias em treinamento, validação e teste\n",
    "\n",
    "### OBS.: o trecho de código abaixo assume que os dados da tabela foram previamente tratados, bem como suas respectivas imagens.\n",
    "\n",
    "## seed\n",
    "seed = 3\n",
    "np.random.seed(seed)\n",
    "\n",
    "# y = consulta a tabela e pega os valores da coluna \"CLASSIFICAÇÃO ESPECTROGRAMA\"\n",
    "# train_data = train_data.drop([\"CLASSIFICAÇÃO ESPECTROGRAMA\"], axis=1)\n",
    "# x = train_data.values\n",
    "\n",
    "# x_train, x_test, y_train, y_test = train_test_split(x, y, test_size=0.20)"
   ]
  },
  {
   "cell_type": "code",
   "execution_count": null,
   "metadata": {},
   "outputs": [],
   "source": [
    "### Arquitetura da rede convolucional\n",
    "model = Sequential()\n",
    "model.add(Conv2D(64, kernel_size=(5, 5), strides=(2,1), activation='relu'))\n",
    "model.add(Dropout(0.2))\n",
    "model.add(MaxPooling2D(pool_size=(2, 2), strides=(2,2)))\n",
    "\n",
    "model.add(Conv2D(64, kernel_size=(5, 5), strides=(1,1), activation='relu'))\n",
    "model.add(MaxPooling2D(pool_size=(2, 2), strides=(2,2)))\n",
    "\n",
    "model.add(Conv2D(128, kernel_size=(5, 5), strides=(1,1), activation='relu'))\n",
    "model.add(MaxPooling2D(pool_size=(2, 2), strides=(2,2)))\n",
    "\n",
    "model.add(Conv2D(256, kernel_size=(5, 5), strides=(1,1), activation='relu'))\n",
    "model.add(MaxPooling2D(pool_size=(2, 2), strides=(2,2)))\n",
    "\n",
    "model.add(Conv2D(256, kernel_size=(3, 3), strides=(1,1), activation='relu'))\n",
    "model.add(MaxPooling2D(pool_size=(2, 2), strides=(2,2)))\n",
    "\n",
    "model.add(Dense(1024, activation='relu'))\n",
    "model.add(Dropout(0.4))\n",
    "\n",
    "model.add(Dense(1000, activation='softmax'))\n",
    "model.add(Dropout(0.4))\n",
    "\n",
    "model.summary()"
   ]
  },
  {
   "cell_type": "code",
   "execution_count": null,
   "metadata": {},
   "outputs": [],
   "source": [
    "### Treinamento e avaliação da CNN\n",
    "model.compile(optimizer='adam', loss='categorical_crossentropy', metrics=['accuracy'])\n",
    "\n",
    "history = model.fit(x_train, y_train, epochs=1000, verbose=0, batch_size=16, validation_data=(x_test, y_test))\n",
    "\n",
    "scores = model.evaluate(x_test, y_test)\n",
    "print(\"Training %s: %.2f%%\" % (arch1_model.metrics_names[1], scores[1]*100))\n",
    "print(\"Training loss: %.4f\" % (scores[0]))"
   ]
  },
  {
   "cell_type": "markdown",
   "metadata": {},
   "source": [
    "### Gráficos"
   ]
  },
  {
   "cell_type": "code",
   "execution_count": null,
   "metadata": {},
   "outputs": [],
   "source": [
    "### Gráfico de acurácia\n",
    "plt.figure(figsize=(16,11))\n",
    "plt.plot(history.history['acc'], color='red')\n",
    "plt.plot(history.history['val_acc'], color='blue')\n",
    "plt.title('curva de treinamento')\n",
    "plt.ylabel('acurácia')\n",
    "plt.legend(['Treinamento', 'Validação'], loc='upper left')\n",
    "plt.xlabel('época')"
   ]
  },
  {
   "cell_type": "code",
   "execution_count": null,
   "metadata": {},
   "outputs": [],
   "source": [
    "### Gráfico de erro\n",
    "plt.figure(figsize=(16,11))\n",
    "plt.plot(history.history['loss'], color='red')\n",
    "plt.plot(history.history['val_loss'], color='blue')\n",
    "plt.title('curva de treinamento')\n",
    "plt.ylabel('erro')\n",
    "plt.legend(['Treinamento', 'Validação'], loc='upper left')\n",
    "plt.xlabel('época')"
   ]
  },
  {
   "cell_type": "markdown",
   "metadata": {},
   "source": [
    "### Matrizes de Confusão"
   ]
  },
  {
   "cell_type": "code",
   "execution_count": null,
   "metadata": {},
   "outputs": [],
   "source": [
    "acc_score = accuracy_score(y_train, np.round(model.predict(x_train)))\n",
    "matrix = confusion_matrix(y_train, np.round(model.predict(x_train)))\n",
    "print('Acurácia (treinamento): %.2f' % acc_score)\n",
    "print('Matriz de Confusão (treinamento): \\n', matrix)\n",
    "print('\\n\\n')\n",
    "\n",
    "acc_score2 = accuracy_score(y_test, np.round(model.predict(x_test)))\n",
    "matrix2 = confusion_matrix(y_test, np.round(model.predict(x_test)))\n",
    "print('Acurácia (teste): %.2f' % acc_score2)\n",
    "print('Matriz de Confusão (teste): \\n', matrix2)"
   ]
  }
 ],
 "metadata": {
  "kernelspec": {
   "display_name": "Python 3",
   "language": "python",
   "name": "python3"
  },
  "language_info": {
   "codemirror_mode": {
    "name": "ipython",
    "version": 3
   },
   "file_extension": ".py",
   "mimetype": "text/x-python",
   "name": "python",
   "nbconvert_exporter": "python",
   "pygments_lexer": "ipython3",
   "version": "3.6.4"
  }
 },
 "nbformat": 4,
 "nbformat_minor": 2
}
